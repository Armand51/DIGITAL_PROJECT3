{
 "cells": [
  {
   "cell_type": "code",
   "execution_count": 1,
   "metadata": {},
   "outputs": [],
   "source": [
    "import pandas as pd"
   ]
  },
  {
   "cell_type": "code",
   "execution_count": 21,
   "metadata": {},
   "outputs": [],
   "source": [
    "bdd = pd.read_csv(\"../data/processed/bdd_clean.csv\", encoding = \"utf-8\",)\n",
    "colonne_a_deplacer = bdd.pop('classe_bilan_dpe')\n",
    "bdd.insert(0, 'classe_bilan_dpe', colonne_a_deplacer)\n",
    "na_count = bdd.isna().sum()\n",
    "\n",
    "# Créez un DataFrame pour afficher les résultats\n",
    "result_df = pd.DataFrame({\n",
    "    'Nom de la Colonne': na_count.index,\n",
    "    'Nombre de NA': na_count.values\n",
    "})\n",
    "\n",
    "result_df = result_df.sort_values(by= \"Nombre de NA\", ascending = False)\n",
    "colonnes_a_supprimer = result_df[(result_df['Nombre de NA'] > 8000)]['Nom de la Colonne']\n",
    "\n",
    "# Supprimez les colonnes sélectionnées\n",
    "bdd_withooutna = bdd.drop(columns=colonnes_a_supprimer)\n",
    "bdd_withooutna = bdd_withooutna.drop(columns=[\"conso_5_usages_ep_m2\",\"conso_5_usages_ef_m2\",\"emission_ges_5_usages_m2\",\"classe_emission_ges\"], axis = 1)\n",
    "bdd_withooutna = bdd_withooutna.filter(regex=\"^(?!.*deperdition)\")\n",
    "bdd_withooutna.dropna(inplace = True)\n",
    "\n",
    "bdd_withooutna.to_csv(\"../data/processed/bdd_model.csv\")"
   ]
  }
 ],
 "metadata": {
  "kernelspec": {
   "display_name": "venv",
   "language": "python",
   "name": "python3"
  },
  "language_info": {
   "codemirror_mode": {
    "name": "ipython",
    "version": 3
   },
   "file_extension": ".py",
   "mimetype": "text/x-python",
   "name": "python",
   "nbconvert_exporter": "python",
   "pygments_lexer": "ipython3",
   "version": "3.12.0"
  }
 },
 "nbformat": 4,
 "nbformat_minor": 2
}
